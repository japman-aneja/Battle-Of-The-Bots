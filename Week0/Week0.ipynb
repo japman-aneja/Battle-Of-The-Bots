{
  "cells": [
    {
      "cell_type": "markdown",
      "metadata": {
        "id": "o4BQVnaAHC4F"
      },
      "source": [
        "## PyTorch Tutorial!!!\n",
        "In this assignment, you will be familiarized with the usage of the PyTorch library and how to build a model in two ways  \n",
        "It's quite similar to TensorFlow\n",
        "*   using the inbuilt layers in pytorch\n",
        "*   using custom layers to replicate the same result"
      ]
    },
    {
      "cell_type": "code",
      "execution_count": 31,
      "metadata": {
        "id": "Co1Y3oSoAqHp"
      },
      "outputs": [],
      "source": [
        "import torch\n",
        "import torch.nn as nn\n",
        "import torch.optim as optim\n",
        "from torchvision import datasets, transforms\n",
        "from torch.utils.data import DataLoader\n",
        "import matplotlib.pyplot as plt"
      ]
    },
    {
      "cell_type": "code",
      "execution_count": 32,
      "metadata": {
        "colab": {
          "base_uri": "https://localhost:8080/"
        },
        "id": "o30DmRgozsmT",
        "outputId": "bb140f73-70c9-46e0-ffc1-e1cdf3544e75"
      },
      "outputs": [
        {
          "output_type": "stream",
          "name": "stdout",
          "text": [
            "Using device: cpu\n"
          ]
        }
      ],
      "source": [
        "# Using the GPU if it exists\n",
        "device = torch.device(\"cuda\" if torch.cuda.is_available() else \"cpu\")\n",
        "print(f\"Using device: {device}\")"
      ]
    },
    {
      "cell_type": "markdown",
      "metadata": {
        "id": "n682ZxROHh_1"
      },
      "source": [
        "### Loading and preprocessing the Data\n",
        "We will directly be using the dataset included in literally any library that exists. MNIST really is THAT popular.  \n",
        "Link: https://docs.pytorch.org/vision/0.9/datasets.html#mnist"
      ]
    },
    {
      "cell_type": "code",
      "execution_count": 33,
      "metadata": {
        "id": "8zrkUXY8AvtN"
      },
      "outputs": [],
      "source": [
        "transform = transforms.Compose([transforms.ToTensor(), transforms.Normalize((0.5,), (0.5,))])\n",
        "\n",
        "train_dataset = datasets.MNIST(root='./data', train=True, transform=transform, download=True)\n",
        "test_dataset = datasets.MNIST(root='./data', train=False, transform=transform, download=True)\n",
        "\n",
        "train_loader = DataLoader(train_dataset, batch_size=64, shuffle=True)\n",
        "test_loader = DataLoader(test_dataset, batch_size=1000)"
      ]
    },
    {
      "cell_type": "markdown",
      "metadata": {
        "id": "d6W4VEerGYJ8"
      },
      "source": [
        "## Making a simple feedforward network\n",
        "\n",
        "The following is a simple feedforward model with three layers:\n",
        "* a flatten layer to convert our 28x28 images into a single array of length 784\n",
        "* a dense layer of 128 neurons with the relu activation function\n",
        "* finally a dense layer of 10 neurons with the softmax activation to get a distribution between the digits"
      ]
    },
    {
      "cell_type": "code",
      "execution_count": 34,
      "metadata": {
        "id": "zwFnJsE6vjf8"
      },
      "outputs": [],
      "source": [
        "# Build the model\n",
        "SequentialNet = nn.Sequential(\n",
        "    nn.Flatten(),\n",
        "    nn.Linear(784, 128),\n",
        "    nn.ReLU(),\n",
        "    nn.Linear(128, 64),\n",
        "    nn.ReLU(),\n",
        "    nn.Linear(64, 10)\n",
        ")"
      ]
    },
    {
      "cell_type": "markdown",
      "metadata": {
        "id": "Dhb44jOezsmW"
      },
      "source": [
        "### Training and Testing loops"
      ]
    },
    {
      "cell_type": "code",
      "execution_count": 35,
      "metadata": {
        "id": "JLSYJir_zsmX"
      },
      "outputs": [],
      "source": [
        "# Training loop\n",
        "def train(model, loader, optimizer, loss_fn, epochs=5):\n",
        "    model.train()\n",
        "    for epoch in range(epochs):\n",
        "        total_loss = 0\n",
        "        for x, y in loader:\n",
        "            x, y = x.to(device), y.to(device)\n",
        "            optimizer.zero_grad()\n",
        "            logits = model(x)\n",
        "            loss = loss_fn(logits, y)\n",
        "            loss.backward()\n",
        "            optimizer.step()\n",
        "            total_loss += loss.item()\n",
        "        print(f\"Epoch {epoch+1}, Loss: {total_loss:.4f}\")\n",
        "\n",
        "# Testing loop\n",
        "def test(model, loader):\n",
        "    model.eval()\n",
        "    correct = 0\n",
        "    total = 0\n",
        "    with torch.no_grad():\n",
        "        for x, y in loader:\n",
        "            x, y = x.to(device), y.to(device)\n",
        "            logits = model(x)\n",
        "            pred = logits.argmax(dim=1)\n",
        "            correct += (pred == y).sum().item()\n",
        "            total += y.size(0)\n",
        "    print(f\"Accuracy: {100 * correct / total:.2f}%\")\n"
      ]
    },
    {
      "cell_type": "markdown",
      "metadata": {
        "id": "7aPQN3x4zsmX"
      },
      "source": [
        "### Training the sequential model"
      ]
    },
    {
      "cell_type": "code",
      "execution_count": 36,
      "metadata": {
        "colab": {
          "base_uri": "https://localhost:8080/"
        },
        "id": "nC-0YFJRzsmX",
        "outputId": "5ae67fad-69c6-4ca5-837f-5fdb44650ed8"
      },
      "outputs": [
        {
          "output_type": "stream",
          "name": "stdout",
          "text": [
            "\n",
            "Training SequentialNet\n",
            "Epoch 1, Loss: 377.0540\n",
            "Epoch 2, Loss: 181.1596\n",
            "Epoch 3, Loss: 127.5819\n",
            "Epoch 4, Loss: 104.1927\n",
            "Epoch 5, Loss: 88.6052\n",
            "Accuracy: 96.55%\n"
          ]
        }
      ],
      "source": [
        "print(\"\\nTraining SequentialNet\")\n",
        "sequential_model = SequentialNet.to(device)\n",
        "optimizer_seq = optim.Adam(sequential_model.parameters(), lr=0.001)\n",
        "loss_fn = nn.CrossEntropyLoss()\n",
        "\n",
        "\n",
        "train(sequential_model, train_loader, optimizer_seq, loss_fn)\n",
        "test(sequential_model, test_loader)"
      ]
    },
    {
      "cell_type": "markdown",
      "metadata": {
        "id": "dCEMWK1KLZDT"
      },
      "source": [
        "### Manually building the same network from scratch\n",
        "You can use the simple sequential model we described above as a reference."
      ]
    },
    {
      "cell_type": "code",
      "execution_count": 37,
      "metadata": {
        "id": "zw53cAmELYJK"
      },
      "outputs": [],
      "source": [
        "# Custom model\n",
        "class ManualNet(nn.Module):\n",
        "    def __init__(self):\n",
        "        super(ManualNet, self).__init__()\n",
        "        # TODO: Define your paramters using nn.Parameters (the layers)\n",
        "        self.w1 = nn.Parameter(torch.randn(784, 128) * 0.01)\n",
        "        self.b1 = nn.Parameter(torch.zeros(128))\n",
        "        self.w2 = nn.Parameter(torch.randn(128, 64) * 0.01)\n",
        "        self.b2 = nn.Parameter(torch.zeros(64))\n",
        "        self.w3 = nn.Parameter(torch.randn(64, 10) * 0.01)\n",
        "        self.b3 = nn.Parameter(torch.zeros(10))\n",
        "\n",
        "    def forward(self, x):\n",
        "        x = x.view(-1, 784)\n",
        "        # TODO: Do the forward pass using matrix multiplications and applying activation functions\n",
        "        x = torch.matmul(x, self.w1) + self.b1\n",
        "        x = torch.relu(x)\n",
        "        x = torch.matmul(x, self.w2) + self.b2\n",
        "        x = torch.relu(x)\n",
        "        x = torch.matmul(x, self.w3) + self.b3\n",
        "        return x"
      ]
    },
    {
      "cell_type": "markdown",
      "metadata": {
        "id": "WT4Rc3zVzsmY"
      },
      "source": [
        "### Training the manual model"
      ]
    },
    {
      "cell_type": "code",
      "execution_count": 38,
      "metadata": {
        "colab": {
          "base_uri": "https://localhost:8080/"
        },
        "id": "Fuox_YANzsmY",
        "outputId": "079247e8-2099-48c7-c2c3-b4218ec7a105"
      },
      "outputs": [
        {
          "output_type": "stream",
          "name": "stdout",
          "text": [
            "\n",
            "Training ManualNet\n",
            "Epoch 1, Loss: 526.7999\n",
            "Epoch 2, Loss: 232.0824\n",
            "Epoch 3, Loss: 159.6741\n",
            "Epoch 4, Loss: 125.1238\n",
            "Epoch 5, Loss: 103.1067\n",
            "Accuracy: 96.44%\n"
          ]
        }
      ],
      "source": [
        "print(\"\\nTraining ManualNet\")\n",
        "# TODO: Create a ManualNet object and call it manual_model. Train and test it\n",
        "manual_model = ManualNet().to(device)\n",
        "optimizer_manual = optim.Adam(manual_model.parameters(), lr=0.001)\n",
        "loss_fn = nn.CrossEntropyLoss()\n",
        "\n",
        "train(manual_model, train_loader, optimizer_manual, loss_fn)\n",
        "test(manual_model, test_loader)"
      ]
    },
    {
      "cell_type": "markdown",
      "metadata": {
        "id": "JYxpLgH_zsmZ"
      },
      "source": [
        "### Visualize the outputs of the models"
      ]
    },
    {
      "cell_type": "code",
      "execution_count": 39,
      "metadata": {
        "colab": {
          "base_uri": "https://localhost:8080/",
          "height": 192
        },
        "id": "mQ478NjpzsmZ",
        "outputId": "94d0662d-743b-4787-f944-d62807d6d88b"
      },
      "outputs": [
        {
          "output_type": "display_data",
          "data": {
            "text/plain": [
              "<Figure size 1000x200 with 5 Axes>"
            ],
            "image/png": "[encoded data removed]"
          },
          "metadata": {}
        }
      ],
      "source": [
        "def visualize(model, loader, n=5):\n",
        "    model.eval()\n",
        "    x, y = next(iter(loader))\n",
        "    x, y = x.to(device), y.to(device)\n",
        "    preds = model(x).argmax(dim=1)\n",
        "\n",
        "    plt.figure(figsize=(10, 2))\n",
        "    for i in range(n):\n",
        "        plt.subplot(1, n, i+1)\n",
        "        plt.imshow(x[i].cpu().squeeze(), cmap='gray')\n",
        "        plt.title(f\"T:{y[i].item()} P:{preds[i].item()}\")\n",
        "        plt.axis('off')\n",
        "    plt.show()\n",
        "\n",
        "# visualize(manual_model, test_loader) # Uncomment this later\n",
        "visualize(sequential_model, test_loader)"
      ]
    },
    {
      "cell_type": "markdown",
      "metadata": {
        "id": "K_ymh-5LLyMY"
      },
      "source": [
        "## Assignment\n",
        "* Load and preprocess CIFAR100 dataset (not CIFAR10)\n",
        "* Build a feedforward network for it. You can experiment around with number of layers and and neurons in each layer and different activation functions\n",
        "* You are allowed to use nn.functional. (convolutions _might_ make your accuracy better)"
      ]
    },
    {
      "cell_type": "markdown",
      "metadata": {
        "id": "5KDvZGTIzsmZ"
      },
      "source": [
        "# Bonus Assignment\n",
        "* Try the solving the \"Titanic Survival Prediction\" dataset from kaggle"
      ]
    }
  ],
  "metadata": {
    "colab": {
      "provenance": []
    },
    "kernelspec": {
      "display_name": ".venv",
      "language": "python",
      "name": "python3"
    },
    "language_info": {
      "name": "python",
      "version": "3.13.3"
    }
  },
  "nbformat": 4,
  "nbformat_minor": 0
}